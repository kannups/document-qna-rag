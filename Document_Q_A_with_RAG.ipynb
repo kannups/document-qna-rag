{
  "nbformat": 4,
  "nbformat_minor": 0,
  "metadata": {
    "colab": {
      "provenance": []
    },
    "kernelspec": {
      "name": "python3",
      "display_name": "Python 3"
    },
    "language_info": {
      "name": "python"
    }
  },
  "cells": [
    {
      "cell_type": "markdown",
      "metadata": {
        "id": "16a2e6a6"
      },
      "source": [
        "\n",
        "# Building and Evaluating a RAG Pipeline\n",
        "\n",
        "This notebook guides you through the process of building and evaluating a Retrieval-Augmented Generation (RAG) pipeline. The pipeline utilizes:\n",
        "\n",
        "- **Chroma**: A vector database used to store and efficiently search for relevant text chunks from your document.\n",
        "- **OpenAI Embeddings**: Used to convert text into numerical representations (vectors) for storage and retrieval in Chroma.\n",
        "- **OpenAI Chat Model**: A language model used to generate answers based on the retrieved context.\n",
        "\n",
        "The steps cover loading data, preparing it for the pipeline, setting up and testing the core RAG components, and exploring methods to improve and evaluate the pipeline's performance.\n"
      ]
    },
    {
      "cell_type": "markdown",
      "metadata": {
        "id": "8f6fc890"
      },
      "source": [
        "## Load data\n",
        "\n",
        "Load data from a source (e.g., a file on Google Drive).\n"
      ]
    },
    {
      "cell_type": "code",
      "metadata": {
        "colab": {
          "base_uri": "https://localhost:8080/"
        },
        "id": "7656fdd5",
        "outputId": "84bc3d79-10dc-47c5-e84b-9a3293a1a405"
      },
      "source": [
        "from google.colab import drive\n",
        "\n",
        "# Mount Google Drive to access files stored in your Drive\n",
        "drive.mount('/content/drive')"
      ],
      "execution_count": null,
      "outputs": [
        {
          "output_type": "stream",
          "name": "stdout",
          "text": [
            "Mounted at /content/drive\n"
          ]
        }
      ]
    },
    {
      "cell_type": "code",
      "source": [
        "# Install necessary libraries for the RAG pipeline\n",
        "!pip install python-docx langchain langchain-text-splitters langchain-openai langchain-community chromadb PyMuPDF"
      ],
      "metadata": {
        "colab": {
          "base_uri": "https://localhost:8080/"
        },
        "id": "nxapuc4Dyt6l",
        "outputId": "89272444-2b5b-48cf-d2f9-46cda9e6cbd8"
      },
      "execution_count": null,
      "outputs": [
        {
          "output_type": "stream",
          "name": "stdout",
          "text": [
            "Requirement already satisfied: python-docx in /usr/local/lib/python3.12/dist-packages (1.2.0)\n",
            "Requirement already satisfied: langchain in /usr/local/lib/python3.12/dist-packages (0.3.27)\n",
            "Requirement already satisfied: langchain-text-splitters in /usr/local/lib/python3.12/dist-packages (0.3.11)\n",
            "Requirement already satisfied: langchain-openai in /usr/local/lib/python3.12/dist-packages (0.3.35)\n",
            "Requirement already satisfied: langchain-community in /usr/local/lib/python3.12/dist-packages (0.3.31)\n",
            "Requirement already satisfied: chromadb in /usr/local/lib/python3.12/dist-packages (1.2.1)\n",
            "Requirement already satisfied: PyMuPDF in /usr/local/lib/python3.12/dist-packages (1.26.5)\n",
            "Requirement already satisfied: lxml>=3.1.0 in /usr/local/lib/python3.12/dist-packages (from python-docx) (5.4.0)\n",
            "Requirement already satisfied: typing_extensions>=4.9.0 in /usr/local/lib/python3.12/dist-packages (from python-docx) (4.15.0)\n",
            "Requirement already satisfied: langchain-core<1.0.0,>=0.3.72 in /usr/local/lib/python3.12/dist-packages (from langchain) (0.3.79)\n",
            "Requirement already satisfied: langsmith>=0.1.17 in /usr/local/lib/python3.12/dist-packages (from langchain) (0.4.37)\n",
            "Requirement already satisfied: pydantic<3.0.0,>=2.7.4 in /usr/local/lib/python3.12/dist-packages (from langchain) (2.11.10)\n",
            "Requirement already satisfied: SQLAlchemy<3,>=1.4 in /usr/local/lib/python3.12/dist-packages (from langchain) (2.0.44)\n",
            "Requirement already satisfied: requests<3,>=2 in /usr/local/lib/python3.12/dist-packages (from langchain) (2.32.5)\n",
            "Requirement already satisfied: PyYAML>=5.3 in /usr/local/lib/python3.12/dist-packages (from langchain) (6.0.3)\n",
            "Requirement already satisfied: openai<3.0.0,>=1.104.2 in /usr/local/lib/python3.12/dist-packages (from langchain-openai) (1.109.1)\n",
            "Requirement already satisfied: tiktoken<1.0.0,>=0.7.0 in /usr/local/lib/python3.12/dist-packages (from langchain-openai) (0.12.0)\n",
            "Requirement already satisfied: aiohttp<4.0.0,>=3.8.3 in /usr/local/lib/python3.12/dist-packages (from langchain-community) (3.13.1)\n",
            "Requirement already satisfied: tenacity!=8.4.0,<10.0.0,>=8.1.0 in /usr/local/lib/python3.12/dist-packages (from langchain-community) (8.5.0)\n",
            "Requirement already satisfied: dataclasses-json<0.7.0,>=0.6.7 in /usr/local/lib/python3.12/dist-packages (from langchain-community) (0.6.7)\n",
            "Requirement already satisfied: pydantic-settings<3.0.0,>=2.10.1 in /usr/local/lib/python3.12/dist-packages (from langchain-community) (2.11.0)\n",
            "Requirement already satisfied: httpx-sse<1.0.0,>=0.4.0 in /usr/local/lib/python3.12/dist-packages (from langchain-community) (0.4.3)\n",
            "Requirement already satisfied: numpy>=1.26.2 in /usr/local/lib/python3.12/dist-packages (from langchain-community) (2.0.2)\n",
            "Requirement already satisfied: build>=1.0.3 in /usr/local/lib/python3.12/dist-packages (from chromadb) (1.3.0)\n",
            "Requirement already satisfied: pybase64>=1.4.1 in /usr/local/lib/python3.12/dist-packages (from chromadb) (1.4.2)\n",
            "Requirement already satisfied: uvicorn>=0.18.3 in /usr/local/lib/python3.12/dist-packages (from uvicorn[standard]>=0.18.3->chromadb) (0.38.0)\n",
            "Requirement already satisfied: posthog<6.0.0,>=2.4.0 in /usr/local/lib/python3.12/dist-packages (from chromadb) (5.4.0)\n",
            "Requirement already satisfied: onnxruntime>=1.14.1 in /usr/local/lib/python3.12/dist-packages (from chromadb) (1.23.2)\n",
            "Requirement already satisfied: opentelemetry-api>=1.2.0 in /usr/local/lib/python3.12/dist-packages (from chromadb) (1.38.0)\n",
            "Requirement already satisfied: opentelemetry-exporter-otlp-proto-grpc>=1.2.0 in /usr/local/lib/python3.12/dist-packages (from chromadb) (1.38.0)\n",
            "Requirement already satisfied: opentelemetry-sdk>=1.2.0 in /usr/local/lib/python3.12/dist-packages (from chromadb) (1.38.0)\n",
            "Requirement already satisfied: tokenizers>=0.13.2 in /usr/local/lib/python3.12/dist-packages (from chromadb) (0.22.1)\n",
            "Requirement already satisfied: pypika>=0.48.9 in /usr/local/lib/python3.12/dist-packages (from chromadb) (0.48.9)\n",
            "Requirement already satisfied: tqdm>=4.65.0 in /usr/local/lib/python3.12/dist-packages (from chromadb) (4.67.1)\n",
            "Requirement already satisfied: overrides>=7.3.1 in /usr/local/lib/python3.12/dist-packages (from chromadb) (7.7.0)\n",
            "Requirement already satisfied: importlib-resources in /usr/local/lib/python3.12/dist-packages (from chromadb) (6.5.2)\n",
            "Requirement already satisfied: grpcio>=1.58.0 in /usr/local/lib/python3.12/dist-packages (from chromadb) (1.75.1)\n",
            "Requirement already satisfied: bcrypt>=4.0.1 in /usr/local/lib/python3.12/dist-packages (from chromadb) (5.0.0)\n",
            "Requirement already satisfied: typer>=0.9.0 in /usr/local/lib/python3.12/dist-packages (from chromadb) (0.20.0)\n",
            "Requirement already satisfied: kubernetes>=28.1.0 in /usr/local/lib/python3.12/dist-packages (from chromadb) (34.1.0)\n",
            "Requirement already satisfied: mmh3>=4.0.1 in /usr/local/lib/python3.12/dist-packages (from chromadb) (5.2.0)\n",
            "Requirement already satisfied: orjson>=3.9.12 in /usr/local/lib/python3.12/dist-packages (from chromadb) (3.11.3)\n",
            "Requirement already satisfied: httpx>=0.27.0 in /usr/local/lib/python3.12/dist-packages (from chromadb) (0.28.1)\n",
            "Requirement already satisfied: rich>=10.11.0 in /usr/local/lib/python3.12/dist-packages (from chromadb) (13.9.4)\n",
            "Requirement already satisfied: jsonschema>=4.19.0 in /usr/local/lib/python3.12/dist-packages (from chromadb) (4.25.1)\n",
            "Requirement already satisfied: aiohappyeyeballs>=2.5.0 in /usr/local/lib/python3.12/dist-packages (from aiohttp<4.0.0,>=3.8.3->langchain-community) (2.6.1)\n",
            "Requirement already satisfied: aiosignal>=1.4.0 in /usr/local/lib/python3.12/dist-packages (from aiohttp<4.0.0,>=3.8.3->langchain-community) (1.4.0)\n",
            "Requirement already satisfied: attrs>=17.3.0 in /usr/local/lib/python3.12/dist-packages (from aiohttp<4.0.0,>=3.8.3->langchain-community) (25.4.0)\n",
            "Requirement already satisfied: frozenlist>=1.1.1 in /usr/local/lib/python3.12/dist-packages (from aiohttp<4.0.0,>=3.8.3->langchain-community) (1.8.0)\n",
            "Requirement already satisfied: multidict<7.0,>=4.5 in /usr/local/lib/python3.12/dist-packages (from aiohttp<4.0.0,>=3.8.3->langchain-community) (6.7.0)\n",
            "Requirement already satisfied: propcache>=0.2.0 in /usr/local/lib/python3.12/dist-packages (from aiohttp<4.0.0,>=3.8.3->langchain-community) (0.4.1)\n",
            "Requirement already satisfied: yarl<2.0,>=1.17.0 in /usr/local/lib/python3.12/dist-packages (from aiohttp<4.0.0,>=3.8.3->langchain-community) (1.22.0)\n",
            "Requirement already satisfied: packaging>=19.1 in /usr/local/lib/python3.12/dist-packages (from build>=1.0.3->chromadb) (25.0)\n",
            "Requirement already satisfied: pyproject_hooks in /usr/local/lib/python3.12/dist-packages (from build>=1.0.3->chromadb) (1.2.0)\n",
            "Requirement already satisfied: marshmallow<4.0.0,>=3.18.0 in /usr/local/lib/python3.12/dist-packages (from dataclasses-json<0.7.0,>=0.6.7->langchain-community) (3.26.1)\n",
            "Requirement already satisfied: typing-inspect<1,>=0.4.0 in /usr/local/lib/python3.12/dist-packages (from dataclasses-json<0.7.0,>=0.6.7->langchain-community) (0.9.0)\n",
            "Requirement already satisfied: anyio in /usr/local/lib/python3.12/dist-packages (from httpx>=0.27.0->chromadb) (4.11.0)\n",
            "Requirement already satisfied: certifi in /usr/local/lib/python3.12/dist-packages (from httpx>=0.27.0->chromadb) (2025.10.5)\n",
            "Requirement already satisfied: httpcore==1.* in /usr/local/lib/python3.12/dist-packages (from httpx>=0.27.0->chromadb) (1.0.9)\n",
            "Requirement already satisfied: idna in /usr/local/lib/python3.12/dist-packages (from httpx>=0.27.0->chromadb) (3.11)\n",
            "Requirement already satisfied: h11>=0.16 in /usr/local/lib/python3.12/dist-packages (from httpcore==1.*->httpx>=0.27.0->chromadb) (0.16.0)\n",
            "Requirement already satisfied: jsonschema-specifications>=2023.03.6 in /usr/local/lib/python3.12/dist-packages (from jsonschema>=4.19.0->chromadb) (2025.9.1)\n",
            "Requirement already satisfied: referencing>=0.28.4 in /usr/local/lib/python3.12/dist-packages (from jsonschema>=4.19.0->chromadb) (0.37.0)\n",
            "Requirement already satisfied: rpds-py>=0.7.1 in /usr/local/lib/python3.12/dist-packages (from jsonschema>=4.19.0->chromadb) (0.27.1)\n",
            "Requirement already satisfied: six>=1.9.0 in /usr/local/lib/python3.12/dist-packages (from kubernetes>=28.1.0->chromadb) (1.17.0)\n",
            "Requirement already satisfied: python-dateutil>=2.5.3 in /usr/local/lib/python3.12/dist-packages (from kubernetes>=28.1.0->chromadb) (2.9.0.post0)\n",
            "Requirement already satisfied: google-auth>=1.0.1 in /usr/local/lib/python3.12/dist-packages (from kubernetes>=28.1.0->chromadb) (2.38.0)\n",
            "Requirement already satisfied: websocket-client!=0.40.0,!=0.41.*,!=0.42.*,>=0.32.0 in /usr/local/lib/python3.12/dist-packages (from kubernetes>=28.1.0->chromadb) (1.9.0)\n",
            "Requirement already satisfied: requests-oauthlib in /usr/local/lib/python3.12/dist-packages (from kubernetes>=28.1.0->chromadb) (2.0.0)\n",
            "Requirement already satisfied: urllib3<2.4.0,>=1.24.2 in /usr/local/lib/python3.12/dist-packages (from kubernetes>=28.1.0->chromadb) (2.3.0)\n",
            "Requirement already satisfied: durationpy>=0.7 in /usr/local/lib/python3.12/dist-packages (from kubernetes>=28.1.0->chromadb) (0.10)\n",
            "Requirement already satisfied: jsonpatch<2.0.0,>=1.33.0 in /usr/local/lib/python3.12/dist-packages (from langchain-core<1.0.0,>=0.3.72->langchain) (1.33)\n",
            "Requirement already satisfied: requests-toolbelt>=1.0.0 in /usr/local/lib/python3.12/dist-packages (from langsmith>=0.1.17->langchain) (1.0.0)\n",
            "Requirement already satisfied: zstandard>=0.23.0 in /usr/local/lib/python3.12/dist-packages (from langsmith>=0.1.17->langchain) (0.25.0)\n",
            "Requirement already satisfied: coloredlogs in /usr/local/lib/python3.12/dist-packages (from onnxruntime>=1.14.1->chromadb) (15.0.1)\n",
            "Requirement already satisfied: flatbuffers in /usr/local/lib/python3.12/dist-packages (from onnxruntime>=1.14.1->chromadb) (25.9.23)\n",
            "Requirement already satisfied: protobuf in /usr/local/lib/python3.12/dist-packages (from onnxruntime>=1.14.1->chromadb) (5.29.5)\n",
            "Requirement already satisfied: sympy in /usr/local/lib/python3.12/dist-packages (from onnxruntime>=1.14.1->chromadb) (1.13.3)\n",
            "Requirement already satisfied: distro<2,>=1.7.0 in /usr/local/lib/python3.12/dist-packages (from openai<3.0.0,>=1.104.2->langchain-openai) (1.9.0)\n",
            "Requirement already satisfied: jiter<1,>=0.4.0 in /usr/local/lib/python3.12/dist-packages (from openai<3.0.0,>=1.104.2->langchain-openai) (0.11.1)\n",
            "Requirement already satisfied: sniffio in /usr/local/lib/python3.12/dist-packages (from openai<3.0.0,>=1.104.2->langchain-openai) (1.3.1)\n",
            "Requirement already satisfied: importlib-metadata<8.8.0,>=6.0 in /usr/local/lib/python3.12/dist-packages (from opentelemetry-api>=1.2.0->chromadb) (8.7.0)\n",
            "Requirement already satisfied: googleapis-common-protos~=1.57 in /usr/local/lib/python3.12/dist-packages (from opentelemetry-exporter-otlp-proto-grpc>=1.2.0->chromadb) (1.71.0)\n",
            "Requirement already satisfied: opentelemetry-exporter-otlp-proto-common==1.38.0 in /usr/local/lib/python3.12/dist-packages (from opentelemetry-exporter-otlp-proto-grpc>=1.2.0->chromadb) (1.38.0)\n",
            "Requirement already satisfied: opentelemetry-proto==1.38.0 in /usr/local/lib/python3.12/dist-packages (from opentelemetry-exporter-otlp-proto-grpc>=1.2.0->chromadb) (1.38.0)\n",
            "Requirement already satisfied: opentelemetry-semantic-conventions==0.59b0 in /usr/local/lib/python3.12/dist-packages (from opentelemetry-sdk>=1.2.0->chromadb) (0.59b0)\n",
            "Requirement already satisfied: backoff>=1.10.0 in /usr/local/lib/python3.12/dist-packages (from posthog<6.0.0,>=2.4.0->chromadb) (2.2.1)\n",
            "Requirement already satisfied: annotated-types>=0.6.0 in /usr/local/lib/python3.12/dist-packages (from pydantic<3.0.0,>=2.7.4->langchain) (0.7.0)\n",
            "Requirement already satisfied: pydantic-core==2.33.2 in /usr/local/lib/python3.12/dist-packages (from pydantic<3.0.0,>=2.7.4->langchain) (2.33.2)\n",
            "Requirement already satisfied: typing-inspection>=0.4.0 in /usr/local/lib/python3.12/dist-packages (from pydantic<3.0.0,>=2.7.4->langchain) (0.4.2)\n",
            "Requirement already satisfied: python-dotenv>=0.21.0 in /usr/local/lib/python3.12/dist-packages (from pydantic-settings<3.0.0,>=2.10.1->langchain-community) (1.1.1)\n",
            "Requirement already satisfied: charset_normalizer<4,>=2 in /usr/local/lib/python3.12/dist-packages (from requests<3,>=2->langchain) (3.4.4)\n",
            "Requirement already satisfied: markdown-it-py>=2.2.0 in /usr/local/lib/python3.12/dist-packages (from rich>=10.11.0->chromadb) (4.0.0)\n",
            "Requirement already satisfied: pygments<3.0.0,>=2.13.0 in /usr/local/lib/python3.12/dist-packages (from rich>=10.11.0->chromadb) (2.19.2)\n",
            "Requirement already satisfied: greenlet>=1 in /usr/local/lib/python3.12/dist-packages (from SQLAlchemy<3,>=1.4->langchain) (3.2.4)\n",
            "Requirement already satisfied: regex>=2022.1.18 in /usr/local/lib/python3.12/dist-packages (from tiktoken<1.0.0,>=0.7.0->langchain-openai) (2024.11.6)\n",
            "Requirement already satisfied: huggingface-hub<2.0,>=0.16.4 in /usr/local/lib/python3.12/dist-packages (from tokenizers>=0.13.2->chromadb) (0.35.3)\n",
            "Requirement already satisfied: click>=8.0.0 in /usr/local/lib/python3.12/dist-packages (from typer>=0.9.0->chromadb) (8.3.0)\n",
            "Requirement already satisfied: shellingham>=1.3.0 in /usr/local/lib/python3.12/dist-packages (from typer>=0.9.0->chromadb) (1.5.4)\n",
            "Requirement already satisfied: httptools>=0.6.3 in /usr/local/lib/python3.12/dist-packages (from uvicorn[standard]>=0.18.3->chromadb) (0.7.1)\n",
            "Requirement already satisfied: uvloop>=0.15.1 in /usr/local/lib/python3.12/dist-packages (from uvicorn[standard]>=0.18.3->chromadb) (0.22.1)\n",
            "Requirement already satisfied: watchfiles>=0.13 in /usr/local/lib/python3.12/dist-packages (from uvicorn[standard]>=0.18.3->chromadb) (1.1.1)\n",
            "Requirement already satisfied: websockets>=10.4 in /usr/local/lib/python3.12/dist-packages (from uvicorn[standard]>=0.18.3->chromadb) (15.0.1)\n",
            "Requirement already satisfied: cachetools<6.0,>=2.0.0 in /usr/local/lib/python3.12/dist-packages (from google-auth>=1.0.1->kubernetes>=28.1.0->chromadb) (5.5.2)\n",
            "Requirement already satisfied: pyasn1-modules>=0.2.1 in /usr/local/lib/python3.12/dist-packages (from google-auth>=1.0.1->kubernetes>=28.1.0->chromadb) (0.4.2)\n",
            "Requirement already satisfied: rsa<5,>=3.1.4 in /usr/local/lib/python3.12/dist-packages (from google-auth>=1.0.1->kubernetes>=28.1.0->chromadb) (4.9.1)\n",
            "Requirement already satisfied: filelock in /usr/local/lib/python3.12/dist-packages (from huggingface-hub<2.0,>=0.16.4->tokenizers>=0.13.2->chromadb) (3.20.0)\n",
            "Requirement already satisfied: fsspec>=2023.5.0 in /usr/local/lib/python3.12/dist-packages (from huggingface-hub<2.0,>=0.16.4->tokenizers>=0.13.2->chromadb) (2025.3.0)\n",
            "Requirement already satisfied: hf-xet<2.0.0,>=1.1.3 in /usr/local/lib/python3.12/dist-packages (from huggingface-hub<2.0,>=0.16.4->tokenizers>=0.13.2->chromadb) (1.1.10)\n",
            "Requirement already satisfied: zipp>=3.20 in /usr/local/lib/python3.12/dist-packages (from importlib-metadata<8.8.0,>=6.0->opentelemetry-api>=1.2.0->chromadb) (3.23.0)\n",
            "Requirement already satisfied: jsonpointer>=1.9 in /usr/local/lib/python3.12/dist-packages (from jsonpatch<2.0.0,>=1.33.0->langchain-core<1.0.0,>=0.3.72->langchain) (3.0.0)\n",
            "Requirement already satisfied: mdurl~=0.1 in /usr/local/lib/python3.12/dist-packages (from markdown-it-py>=2.2.0->rich>=10.11.0->chromadb) (0.1.2)\n",
            "Requirement already satisfied: mypy-extensions>=0.3.0 in /usr/local/lib/python3.12/dist-packages (from typing-inspect<1,>=0.4.0->dataclasses-json<0.7.0,>=0.6.7->langchain-community) (1.1.0)\n",
            "Requirement already satisfied: humanfriendly>=9.1 in /usr/local/lib/python3.12/dist-packages (from coloredlogs->onnxruntime>=1.14.1->chromadb) (10.0)\n",
            "Requirement already satisfied: oauthlib>=3.0.0 in /usr/local/lib/python3.12/dist-packages (from requests-oauthlib->kubernetes>=28.1.0->chromadb) (3.3.1)\n",
            "Requirement already satisfied: mpmath<1.4,>=1.1.0 in /usr/local/lib/python3.12/dist-packages (from sympy->onnxruntime>=1.14.1->chromadb) (1.3.0)\n",
            "Requirement already satisfied: pyasn1<0.7.0,>=0.6.1 in /usr/local/lib/python3.12/dist-packages (from pyasn1-modules>=0.2.1->google-auth>=1.0.1->kubernetes>=28.1.0->chromadb) (0.6.1)\n"
          ]
        }
      ]
    },
    {
      "cell_type": "code",
      "metadata": {
        "colab": {
          "base_uri": "https://localhost:8080/"
        },
        "id": "pXyPSW8LnTic",
        "outputId": "a12c2dfe-8fa8-484e-df23-e86a7ece4793"
      },
      "source": [
        "import fitz  # Import PyMuPDF\n",
        "\n",
        "# Specify the path to your data file in Google Drive\n",
        "file_path = '/content/DMV-DriverManual.pdf' # Replace with your actual file path\n",
        "\n",
        "# Read the content of the PDF file\n",
        "try:\n",
        "    doc = fitz.open(file_path)\n",
        "    # Extract text from each page and join them with newline characters\n",
        "    data = \"\"\n",
        "    for page_num in range(doc.page_count):\n",
        "        page = doc.load_page(page_num)\n",
        "        data += page.get_text() + \"\\n\"\n",
        "except FileNotFoundError:\n",
        "    # Handle the case where the file is not found\n",
        "    print(f\"Error: File not found at {file_path}\")\n",
        "    data = None\n",
        "\n",
        "# Display the first 500 characters of the loaded data to verify\n",
        "if data:\n",
        "    print(data[:500])"
      ],
      "execution_count": null,
      "outputs": [
        {
          "output_type": "stream",
          "name": "stdout",
          "text": [
            "  \n",
            "  \n",
            "Ned Lamont \n",
            "Governor\n",
            "Sibongile Magubane \n",
            "Commissioner\n",
            "ct.gov/dmv\n",
            "facebook.com/CTDMVteens\n",
            "@CTDMV\n",
            "Driver’s  \n",
            "Manual\n",
            "State of Connecticut \n",
            "Department of Motor Vehicles\n",
            "\n",
            "Commissioner \n",
            "Sibongile Magubane\n",
            "Governor Ned Lamont\n",
            "An Important Message from Governor Ned Lamont and \n",
            "Commissioner Sibongile Magubane\n",
            "Connecticut takes pride in its highway safety initiatives and efforts to make the roads \n",
            "safer for all who use them. This work involves driver licensing and ensuring that new and \n",
            "renewing dri\n"
          ]
        }
      ]
    },
    {
      "cell_type": "markdown",
      "metadata": {
        "id": "ae70b73b"
      },
      "source": [
        "## Split text\n",
        "\n",
        "Divide the loaded text into smaller, manageable chunks for processing.\n"
      ]
    },
    {
      "cell_type": "code",
      "metadata": {
        "colab": {
          "base_uri": "https://localhost:8080/"
        },
        "id": "ec139f62",
        "outputId": "8b3dd187-0a6c-4a5b-8e9f-e204501dbc27"
      },
      "source": [
        "from langchain_text_splitters import RecursiveCharacterTextSplitter\n",
        "\n",
        "# Initialize a text splitter with a chunk size of 500 and an overlap of 50 characters\n",
        "text_splitter = RecursiveCharacterTextSplitter(chunk_size=500, chunk_overlap=50)\n",
        "# Split the loaded data into text chunks\n",
        "texts = text_splitter.split_text(data)\n",
        "\n",
        "# Print the number of generated chunks\n",
        "print(f\"Number of chunks: {len(texts)}\")\n",
        "# Print the first chunk to verify the splitting\n",
        "print(\"First chunk:\")\n",
        "print(texts[0])"
      ],
      "execution_count": null,
      "outputs": [
        {
          "output_type": "stream",
          "name": "stdout",
          "text": [
            "Number of chunks: 499\n",
            "First chunk:\n",
            "Ned Lamont \n",
            "Governor\n",
            "Sibongile Magubane \n",
            "Commissioner\n",
            "ct.gov/dmv\n",
            "facebook.com/CTDMVteens\n",
            "@CTDMV\n",
            "Driver’s  \n",
            "Manual\n",
            "State of Connecticut \n",
            "Department of Motor Vehicles\n"
          ]
        }
      ]
    },
    {
      "cell_type": "markdown",
      "metadata": {
        "id": "81d97411"
      },
      "source": [
        "## Create embeddings\n",
        "\n",
        "Generate embeddings for the text chunks using OpenAI's embedding model.\n"
      ]
    },
    {
      "cell_type": "code",
      "metadata": {
        "id": "58667bd2"
      },
      "source": [
        "# Import the OpenAIEmbeddings class for generating embeddings\n",
        "from langchain_openai import OpenAIEmbeddings\n",
        "from google.colab import userdata\n",
        "\n",
        "# Initialize the OpenAIEmbeddings model, explicitly passing the API key\n",
        "embeddings = OpenAIEmbeddings(openai_api_key=userdata.get(\"OPENAI_API_KEY\"))"
      ],
      "execution_count": null,
      "outputs": []
    },
    {
      "cell_type": "code",
      "metadata": {
        "id": "f54fde9f",
        "colab": {
          "base_uri": "https://localhost:8080/"
        },
        "outputId": "8982e5ce-992b-4402-e4ce-30876071b36f"
      },
      "source": [
        "# Generate embeddings for the text chunks\n",
        "vector = embeddings.embed_documents(texts)\n",
        "# Print the number of generated embeddings\n",
        "print(f\"Number of embeddings: {len(vector)}\")"
      ],
      "execution_count": null,
      "outputs": [
        {
          "output_type": "stream",
          "name": "stdout",
          "text": [
            "Number of embeddings: 499\n"
          ]
        }
      ]
    },
    {
      "cell_type": "code",
      "metadata": {
        "id": "QL0YiTx1vmEn"
      },
      "source": [
        "# Import the Document class to represent text documents\n",
        "from langchain_core.documents import Document\n",
        "# Import the Chroma vector store class\n",
        "from langchain_community.vectorstores import Chroma\n",
        "\n",
        "# Convert the text chunks into Document objects\n",
        "documents = [Document(page_content=text) for text in texts]\n",
        "# Initialize the Chroma vector store from the documents and embeddings\n",
        "vectorstore = Chroma.from_documents(documents, embeddings)"
      ],
      "execution_count": null,
      "outputs": []
    },
    {
      "cell_type": "markdown",
      "metadata": {
        "id": "08f28973"
      },
      "source": [
        "## Set up the retriever\n",
        "\n",
        "Create a retriever from the Chroma database that can search for relevant text chunks based on a query.\n"
      ]
    },
    {
      "cell_type": "code",
      "metadata": {
        "id": "0f92f63e"
      },
      "source": [
        "# Create a retriever from the Chroma vector store\n",
        "retriever = vectorstore.as_retriever()"
      ],
      "execution_count": null,
      "outputs": []
    },
    {
      "cell_type": "markdown",
      "metadata": {
        "id": "eaed118c"
      },
      "source": [
        "## Set up the language model\n",
        "\n",
        "Choose and initialize a language model (e.g., an OpenAI chat model) to answer questions based on the retrieved context.\n"
      ]
    },
    {
      "cell_type": "code",
      "metadata": {
        "id": "f93a78c4"
      },
      "source": [
        "# Import the ChatOpenAI class for the language model\n",
        "from langchain_openai import ChatOpenAI\n",
        "\n",
        "# Initialize the ChatOpenAI language model\n",
        "llm = ChatOpenAI(openai_api_key=userdata.get(\"OPENAI_API_KEY\"))"
      ],
      "execution_count": null,
      "outputs": []
    },
    {
      "cell_type": "markdown",
      "metadata": {
        "id": "aa92373d"
      },
      "source": [
        "## Create the rag chain\n",
        "\n",
        "Combine the retriever and the language model into a RAG chain that takes a question and returns an answer.\n"
      ]
    },
    {
      "cell_type": "code",
      "metadata": {
        "id": "c115c6a7"
      },
      "source": [
        "# Import necessary components for building the RAG chain\n",
        "from langchain_core.runnables import RunnablePassthrough, RunnableSequence\n",
        "from langchain_core.output_parsers import StrOutputParser\n",
        "from langchain_core.prompts import ChatPromptTemplate\n",
        "\n",
        "# Define the prompt template for the RAG chain\n",
        "template = \"\"\"Answer the question based only on the following context:\n",
        "{context}\n",
        "\n",
        "Question: {question}\n",
        "\"\"\"\n",
        "# Create a chat prompt template from the defined template\n",
        "prompt = ChatPromptTemplate.from_template(template)\n",
        "\n",
        "# Construct the RAG chain\n",
        "rag_chain = (\n",
        "    # Pass the retrieved context and the question to the prompt\n",
        "    {\"context\": retriever, \"question\": RunnablePassthrough()}\n",
        "    | prompt  # Apply the prompt\n",
        "    | llm  # Pass the result to the language model\n",
        "    | StrOutputParser()  # Parse the output as a string\n",
        ")"
      ],
      "execution_count": null,
      "outputs": []
    },
    {
      "cell_type": "markdown",
      "metadata": {
        "id": "c3b5014a"
      },
      "source": [
        "## Test the rag chain\n",
        "\n",
        "Ask a question to the RAG chain to test its functionality.\n"
      ]
    },
    {
      "cell_type": "code",
      "metadata": {
        "colab": {
          "base_uri": "https://localhost:8080/"
        },
        "id": "326dfcf0",
        "outputId": "0796b3db-30ce-4617-cf9b-949dce5b85e5"
      },
      "source": [
        "# Define the question to test the RAG chain\n",
        "question = \"What is the process for obtaining a learner's permit?\"\n",
        "# Invoke the RAG chain with the question and get the answer\n",
        "answer = rag_chain.invoke(question)\n",
        "# Print the answer\n",
        "print(answer)"
      ],
      "execution_count": null,
      "outputs": [
        {
          "output_type": "stream",
          "name": "stdout",
          "text": [
            "To obtain a learner's permit, the applicant must be at least 16 years of age and pass both a vision and a 25-question knowledge test. After holding the learner's permit for the required time and meeting the training requirements, the applicant can schedule a road test appointment. The applicant must also have a parent or legal guardian complete two hours of instruction concerning the laws governing drivers under age 18 and the dangers of teen driving. The permit will be valid until the driver obtains a driver's license or for 2 years from the date it is issued, whichever comes first.\n"
          ]
        }
      ]
    },
    {
      "cell_type": "markdown",
      "metadata": {
        "id": "6eba2857"
      },
      "source": [
        "# Improving and Evaluating the RAG Chain\n",
        "\n",
        "This section explores different methods to enhance the performance and assess the effectiveness of the RAG chain. This includes:\n",
        "\n",
        "- Experimenting with different text chunking strategies (size and overlap).\n",
        "- Exploring alternative embedding models.\n",
        "- Incorporating a re-ranking step to improve document relevance.\n",
        "- Refining the prompt template to guide the language model's response.\n",
        "- Implementing methods to evaluate the RAG chain's performance."
      ]
    },
    {
      "cell_type": "markdown",
      "metadata": {
        "id": "d2c3c1bd"
      },
      "source": [
        "## Experiment with different chunk sizes and overlaps\n",
        "Experiment with different chunk sizes and overlaps, generate embeddings, create a new vector store and retriever, construct and test the new RAG chain.\n"
      ]
    },
    {
      "cell_type": "code",
      "metadata": {
        "colab": {
          "base_uri": "https://localhost:8080/"
        },
        "id": "e988fa23",
        "outputId": "ce6ed781-3188-4a4b-9afe-47cd49f6a085"
      },
      "source": [
        "# 1. Create a new list of text chunks with different values\n",
        "text_splitter_experiment = RecursiveCharacterTextSplitter(chunk_size=800, chunk_overlap=80)\n",
        "texts_experiment = text_splitter_experiment.split_text(data)\n",
        "\n",
        "# 2. Print the number of generated chunks and the first chunk\n",
        "print(f\"Number of chunks (experiment): {len(texts_experiment)}\")\n",
        "print(\"First chunk (experiment):\")\n",
        "print(texts_experiment[0])\n",
        "\n",
        "# 3. Generate embeddings for these new text chunks\n",
        "vector_experiment = embeddings.embed_documents(texts_experiment)\n",
        "\n",
        "# 4. Create a new Chroma vector store\n",
        "documents_experiment = [Document(page_content=text) for text in texts_experiment]\n",
        "vectorstore_experiment = Chroma.from_documents(documents_experiment, embeddings)\n",
        "\n",
        "# 5. Create a new retriever from this experimental vector store\n",
        "retriever_experiment = vectorstore_experiment.as_retriever()\n",
        "\n",
        "# 6. Construct a new RAG chain\n",
        "rag_chain_experiment = (\n",
        "    {\"context\": retriever_experiment, \"question\": RunnablePassthrough()}\n",
        "    | prompt\n",
        "    | llm\n",
        "    | StrOutputParser()\n",
        ")\n",
        "\n",
        "# 7. Test the rag_chain_experiment\n",
        "question = \"What is the process for obtaining a learner's permit?\"\n",
        "answer_experiment = rag_chain_experiment.invoke(question)\n",
        "print(\"\\nAnswer from experimental RAG chain:\")\n",
        "print(answer_experiment)"
      ],
      "execution_count": null,
      "outputs": [
        {
          "output_type": "stream",
          "name": "stdout",
          "text": [
            "Number of chunks (experiment): 306\n",
            "First chunk (experiment):\n",
            "Ned Lamont \n",
            "Governor\n",
            "Sibongile Magubane \n",
            "Commissioner\n",
            "ct.gov/dmv\n",
            "facebook.com/CTDMVteens\n",
            "@CTDMV\n",
            "Driver’s  \n",
            "Manual\n",
            "State of Connecticut \n",
            "Department of Motor Vehicles\n",
            "\n",
            "Answer from experimental RAG chain:\n",
            "To obtain a learner's permit, the applicant must be at least 16 years old and must pass both a vision test and a 25-question knowledge test. Additionally, a favorable review of the applicant's condition(s) must be obtained prior to the issuance of the learner's permit. It is recommended to contact the DMV Driver Services Division at (860) 263-5720 in advance of making the application to avoid any delays. The learner's permit will be valid until the applicant obtains a driver's license or for 2 years from the date it is issued, whichever comes first.\n"
          ]
        }
      ]
    },
    {
      "cell_type": "markdown",
      "metadata": {
        "id": "362398b5"
      },
      "source": [
        "## Incorporate a re-ranking step\n",
        "\n",
        "Add a re-ranking step to the RAG pipeline to improve the relevance of retrieved documents."
      ]
    },
    {
      "cell_type": "code",
      "metadata": {
        "colab": {
          "base_uri": "https://localhost:8080/"
        },
        "id": "0c271da6",
        "outputId": "58a053fd-cd38-4da8-e594-0dbcd3afb00a"
      },
      "source": [
        "# Import necessary components for re-ranking\n",
        "from langchain.retrievers import ContextualCompressionRetriever\n",
        "from langchain.retrievers.document_compressors import DocumentCompressorPipeline\n",
        "from langchain_community.document_transformers import EmbeddingsRedundantFilter, EmbeddingsClusteringFilter\n",
        "from langchain_community.llms import OpenAI # Using OpenAI for demonstration, you can use other models\n",
        "from langchain_core.runnables import RunnablePassthrough\n",
        "from langchain_core.output_parsers import StrOutputParser\n",
        "from langchain_core.prompts import ChatPromptTemplate\n",
        "\n",
        "# Assuming 'embeddings' and 'retriever' (from the original Chroma setup) are available\n",
        "# If you want to use the new_embeddings, replace 'embeddings' accordingly\n",
        "\n",
        "# Create a redundant document filter\n",
        "redundant_filter = EmbeddingsRedundantFilter(embeddings=embeddings)\n",
        "\n",
        "# You could also use a clustering filter, but for simplicity, we'll stick to redundant filter\n",
        "# clustering_filter = EmbeddingsClusteringFilter(embeddings=embeddings)\n",
        "\n",
        "# Create a document compressor pipeline\n",
        "pipeline = DocumentCompressorPipeline(transformers=[redundant_filter])\n",
        "\n",
        "# Configure the base retriever to return fewer documents\n",
        "# Reduced k from 2 to 1 to decrease context length\n",
        "retriever.search_kwargs['k'] = 1\n",
        "\n",
        "# Create a contextual compression retriever\n",
        "compression_retriever = ContextualCompressionRetriever(\n",
        "    base_compressor=pipeline, base_retriever=retriever\n",
        ")\n",
        "\n",
        "# Define the prompt template (same as before)\n",
        "template = \"\"\"Answer the question based only on the following context:\n",
        "{context}\n",
        "\n",
        "Question: {question}\n",
        "\"\"\"\n",
        "prompt = ChatPromptTemplate.from_template(template)\n",
        "\n",
        "# Construct the RAG chain with re-ranking\n",
        "rag_chain_rerank = (\n",
        "    # Use the compression_retriever which includes the re-ranking step\n",
        "    {\"context\": compression_retriever, \"question\": RunnablePassthrough()}\n",
        "    | prompt  # Apply the prompt\n",
        "    | llm  # Pass the result to the language model\n",
        "    | StrOutputParser()  # Parse the output as a string\n",
        ")\n",
        "\n",
        "# Test the rag_chain_rerank\n",
        "question = \"What is the process for obtaining a learner's permit?\"\n",
        "answer_rerank = rag_chain_rerank.invoke(question)\n",
        "print(\"\\nAnswer from RAG chain with re-ranking:\")\n",
        "print(answer_rerank)"
      ],
      "execution_count": null,
      "outputs": [
        {
          "output_type": "stream",
          "name": "stdout",
          "text": [
            "\n",
            "Answer from RAG chain with re-ranking:\n",
            "To obtain a learner's permit, the individual must be at least 16 years of age, pass both a vision and a 25-question knowledge test, and contact the DMV Driver Services Division prior to making the application. The permit will be valid until the individual obtains a driver's license or 2 years from the date it is issued.\n"
          ]
        }
      ]
    },
    {
      "cell_type": "code",
      "metadata": {
        "colab": {
          "base_uri": "https://localhost:8080/"
        },
        "id": "cc9a19da",
        "outputId": "ce00d6d0-3513-4d46-c3c5-33522ce5e7f7"
      },
      "source": [
        "# Evaluate the RAG chain with the test cases\n",
        "print(\"Evaluating the RAG chain:\")\n",
        "for case in test_cases:\n",
        "    question = case[\"question\"]\n",
        "    expected_answer = case[\"expected_answer\"]\n",
        "    # Using the rag_chain with re-ranking for evaluation as it's the latest improved chain\n",
        "    generated_answer = rag_chain_rerank.invoke(question)\n",
        "\n",
        "    print(f\"\\nQuestion: {question}\")\n",
        "    print(f\"Expected Answer: {expected_answer}\")\n",
        "    print(f\"Generated Answer: {generated_answer}\")\n",
        "\n",
        "    # You can add more sophisticated evaluation metrics here,\n",
        "    # such as comparing similarity between generated and expected answers.\n",
        "    # For simplicity, we'll just print and visually inspect for now."
      ],
      "execution_count": null,
      "outputs": [
        {
          "output_type": "stream",
          "name": "stdout",
          "text": [
            "Evaluating the RAG chain:\n",
            "\n",
            "Question: What is the process for obtaining a learner's permit?\n",
            "Expected Answer: To obtain a learner's permit, the applicant must be at least 16 years of age and pass both a vision and a 25-question knowledge test. After holding the learner's permit for the required time and meeting the training requirements, the applicant can schedule a road test appointment. The applicant must also have a parent or legal guardian complete two hours of instruction concerning the laws governing drivers under age 18 and the dangers of teen driving. The permit will be valid until the driver obtains a driver's license or for 2 years from the date it is issued, whichever comes first.\n",
            "Generated Answer: To obtain a learner's permit, the applicant must be at least 16 years of age and pass both a vision and a 25-question knowledge test. The applicant or applicant's parent or legal guardian should contact the DMV Driver Services Division at (860) 263-5720 as far in advance of making the application as possible. The permit will be valid until the applicant obtains a driver's license or 2 years from the date it is issued, whichever comes first.\n",
            "\n",
            "Question: What are the restrictions for a 16 or 17 year old with a learner's permit?\n",
            "Expected Answer: A 16 or 17 year old with a learner's permit cannot operate a motor vehicle between the hours of 11 p.m. and 5 a.m. unless for employment, school, religious activities, or medical necessity. They also cannot transport more than one passenger other than a parent, legal guardian, or a licensed driving instructor, unless the passenger is a sibling.\n",
            "Generated Answer: The restrictions for a 16 or 17-year-old with a learner's permit include:\n",
            "\n",
            "- Not transporting more passengers than the number of seatbelts in the vehicle\n",
            "- Not operating any vehicle that requires a public passenger transportation permit or a vanpool vehicle\n",
            "- Not using a cell phone (even if it is hands-free) or mobile electronic device while driving.\n"
          ]
        }
      ]
    },
    {
      "cell_type": "markdown",
      "metadata": {
        "id": "69b74401"
      },
      "source": [
        "## Evaluate the RAG chain\n",
        "To evaluate the RAG chain, I will define a set of test questions and their expected answers. Then, I will run the RAG chain with these questions and compare the generated answers to the expected answers. This will provide a basic assessment of the chain's performance."
      ]
    },
    {
      "cell_type": "code",
      "metadata": {
        "colab": {
          "base_uri": "https://localhost:8080/"
        },
        "id": "09a942a1",
        "outputId": "ac8f19b7-7b58-46de-e016-fec4d9e81634"
      },
      "source": [
        "# Define a set of test questions and expected answers\n",
        "test_cases = [\n",
        "    {\n",
        "        \"question\": \"What is the process for obtaining a learner's permit?\",\n",
        "        \"expected_answer\": \"To obtain a learner's permit, the applicant must be at least 16 years of age and pass both a vision and a 25-question knowledge test. After holding the learner's permit for the required time and meeting the training requirements, the applicant can schedule a road test appointment. The applicant must also have a parent or legal guardian complete two hours of instruction concerning the laws governing drivers under age 18 and the dangers of teen driving. The permit will be valid until the driver obtains a driver's license or for 2 years from the date it is issued, whichever comes first.\"\n",
        "    },\n",
        "    {\n",
        "        \"question\": \"What are the restrictions for a 16 or 17 year old with a learner's permit?\",\n",
        "        \"expected_answer\": \"A 16 or 17 year old with a learner's permit cannot operate a motor vehicle between the hours of 11 p.m. and 5 a.m. unless for employment, school, religious activities, or medical necessity. They also cannot transport more than one passenger other than a parent, legal guardian, or a licensed driving instructor, unless the passenger is a sibling.\"\n",
        "    }\n",
        "    # Add more test cases as needed\n",
        "]\n",
        "\n",
        "# Evaluate the RAG chain with the test cases\n",
        "print(\"Evaluating the RAG chain:\")\n",
        "for case in test_cases:\n",
        "    question = case[\"question\"]\n",
        "    expected_answer = case[\"expected_answer\"]\n",
        "    # Using the rag_chain with re-ranking for evaluation as it's the latest improved chain\n",
        "    generated_answer = rag_chain_rerank.invoke(question)\n",
        "\n",
        "    print(f\"\\nQuestion: {question}\")\n",
        "    print(f\"Expected Answer: {expected_answer}\")\n",
        "    print(f\"Generated Answer: {generated_answer}\")\n",
        "\n",
        "    # You can add more sophisticated evaluation metrics here,\n",
        "    # such as comparing similarity between generated and expected answers.\n",
        "    # For simplicity, we'll just print and visually inspect for now."
      ],
      "execution_count": null,
      "outputs": [
        {
          "output_type": "stream",
          "name": "stdout",
          "text": [
            "Evaluating the RAG chain:\n",
            "\n",
            "Question: What is the process for obtaining a learner's permit?\n",
            "Expected Answer: To obtain a learner's permit, the applicant must be at least 16 years of age and pass both a vision and a 25-question knowledge test. After holding the learner's permit for the required time and meeting the training requirements, the applicant can schedule a road test appointment. The applicant must also have a parent or legal guardian complete two hours of instruction concerning the laws governing drivers under age 18 and the dangers of teen driving. The permit will be valid until the driver obtains a driver's license or for 2 years from the date it is issued, whichever comes first.\n",
            "Generated Answer: The process for obtaining a learner's permit includes being at least 16 years of age, passing both a vision and a 25-question knowledge test, and undergoing a review of the applicant's condition(s). A favorable review must be obtained prior to issuance of the learner’s permit. The applicant or applicant’s parent or legal guardian should contact the DMV Driver Services Division in advance of making the application. The permit will be valid until the applicant obtains a driver’s license or 2 years from the date it is issued, whichever comes first.\n",
            "\n",
            "Question: What are the restrictions for a 16 or 17 year old with a learner's permit?\n",
            "Expected Answer: A 16 or 17 year old with a learner's permit cannot operate a motor vehicle between the hours of 11 p.m. and 5 a.m. unless for employment, school, religious activities, or medical necessity. They also cannot transport more than one passenger other than a parent, legal guardian, or a licensed driving instructor, unless the passenger is a sibling.\n",
            "Generated Answer: 16- and 17-year-old learners permit holders may NOT:\n",
            "- Transport more passengers than the number of seatbelts in the vehicle.\n",
            "- Operate any vehicle that requires a public passenger transportation permit or a vanpool vehicle.\n",
            "- Use a cell phone (even if it is hands-free) or mobile electronic device while driving.\n"
          ]
        }
      ]
    },
    {
      "cell_type": "markdown",
      "metadata": {
        "id": "0dfb513c"
      },
      "source": [
        "## Refine the prompt template\n",
        "\n",
        "To refine the prompt template, I will define a new template with clearer instructions or a different structure. I will then create a new RAG chain using this refined prompt and test it to see if it yields better results."
      ]
    },
    {
      "cell_type": "code",
      "metadata": {
        "colab": {
          "base_uri": "https://localhost:8080/"
        },
        "id": "c44b8200",
        "outputId": "a4300efc-e008-4e52-ca63-30da00ffd1ce"
      },
      "source": [
        "# Import necessary components for building the RAG chain\n",
        "from langchain_core.runnables import RunnablePassthrough, RunnableSequence\n",
        "from langchain_core.output_parsers import StrOutputParser\n",
        "from langchain_core.prompts import ChatPromptTemplate\n",
        "\n",
        "# Define a refined prompt template\n",
        "# This template encourages the model to be more concise and directly answer the question\n",
        "refined_template = \"\"\"Using the following context, answer the question concisely and directly.\n",
        "If the answer is not in the context, state that you don't know.\n",
        "\n",
        "Context: {context}\n",
        "\n",
        "Question: {question}\n",
        "\"\"\"\n",
        "# Create a chat prompt template from the refined template\n",
        "refined_prompt = ChatPromptTemplate.from_template(refined_template)\n",
        "\n",
        "# Construct a new RAG chain with the refined prompt\n",
        "# We'll use the original retriever and language model for this example\n",
        "rag_chain_refined_prompt = (\n",
        "    {\"context\": retriever, \"question\": RunnablePassthrough()}\n",
        "    | refined_prompt  # Apply the refined prompt\n",
        "    | llm  # Pass the result to the language model\n",
        "    | StrOutputParser()  # Parse the output as a string\n",
        ")\n",
        "\n",
        "# Test the rag_chain_refined_prompt\n",
        "question = \"What is the process for obtaining a learner's permit?\"\n",
        "answer_refined_prompt = rag_chain_refined_prompt.invoke(question)\n",
        "print(\"\\nAnswer from RAG chain with refined prompt:\")\n",
        "print(answer_refined_prompt)"
      ],
      "execution_count": null,
      "outputs": [
        {
          "output_type": "stream",
          "name": "stdout",
          "text": [
            "\n",
            "Answer from RAG chain with refined prompt:\n",
            "To obtain a learner's permit, you must be at least 16 years of age, pass both a vision and a 25-question knowledge test, and undergo a favorable review of your condition(s) prior to issuance. You can schedule your knowledge test and make payment online by visiting CT.GOV/DMV.\n"
          ]
        }
      ]
    },
    {
      "cell_type": "code",
      "metadata": {
        "id": "fa6ee13d"
      },
      "source": [
        "# Import the ChatOpenAI class for the language model\n",
        "from langchain_openai import ChatOpenAI\n",
        "from google.colab import userdata\n",
        "\n",
        "# Initialize the ChatOpenAI language model\n",
        "llm = ChatOpenAI(openai_api_key=userdata.get(\"OPENAI_API_KEY\"))"
      ],
      "execution_count": null,
      "outputs": []
    },
    {
      "cell_type": "code",
      "metadata": {
        "id": "4eccedd9"
      },
      "source": [
        "# Import necessary components for building the RAG chain\n",
        "from langchain_core.runnables import RunnablePassthrough, RunnableSequence\n",
        "from langchain_core.output_parsers import StrOutputParser\n",
        "from langchain_core.prompts import ChatPromptTemplate\n",
        "\n",
        "# Define the prompt template for the RAG chain\n",
        "template = \"\"\"Answer the question based only on the following context:\n",
        "{context}\n",
        "\n",
        "Question: {question}\n",
        "\"\"\"\n",
        "# Create a chat prompt template from the defined template\n",
        "prompt = ChatPromptTemplate.from_template(template)"
      ],
      "execution_count": null,
      "outputs": []
    },
    {
      "cell_type": "markdown",
      "metadata": {
        "id": "9251ee20"
      },
      "source": [
        "## Explore different embedding models\n",
        "\n",
        "To explore a different embedding model, I need to import the chosen model and initialize it. I will then use this new embedding model to create a new vector store and retriever, and finally test the RAG chain with the new embeddings.\n",
        "\n"
      ]
    },
    {
      "cell_type": "code",
      "metadata": {
        "colab": {
          "base_uri": "https://localhost:8080/"
        },
        "id": "b6d5ac5e",
        "outputId": "85810636-fbb5-4186-af17-5a48b0398d67"
      },
      "source": [
        "# Import a different embedding model, for example, HuggingFaceEmbeddings\n",
        "from langchain_community.embeddings import HuggingFaceEmbeddings\n",
        "from langchain_core.documents import Document\n",
        "from langchain_community.vectorstores import Chroma\n",
        "from langchain_core.runnables import RunnablePassthrough\n",
        "from langchain_core.output_parsers import StrOutputParser\n",
        "\n",
        "\n",
        "# Initialize the new embedding model\n",
        "# You can specify a different model name from the Hugging Face Model Hub\n",
        "# For example, \"sentence-transformers/all-MiniLM-L6-v2\" is a commonly used model\n",
        "new_embeddings = HuggingFaceEmbeddings(model_name=\"sentence-transformers/all-MiniLM-L6-v2\")\n",
        "\n",
        "# Generate embeddings for the text chunks using the new model\n",
        "# vector_new = new_embeddings.embed_documents(texts) # This line is not needed for Chroma.from_documents\n",
        "\n",
        "# Create a new Chroma vector store with the new embeddings\n",
        "# Make sure to use a different collection name if you want to keep the old one\n",
        "vectorstore_new = Chroma.from_documents(documents, new_embeddings, collection_name=\"rag_experiment_huggingface\")\n",
        "\n",
        "\n",
        "# Create a new retriever from this new vector store\n",
        "retriever_new = vectorstore_new.as_retriever()\n",
        "\n",
        "# Construct a new RAG chain with the new retriever\n",
        "# Assuming 'prompt' and 'llm' are already defined\n",
        "rag_chain_new_embeddings = (\n",
        "    {\"context\": retriever_new, \"question\": RunnablePassthrough()}\n",
        "    | prompt\n",
        "    | llm\n",
        "    | StrOutputParser()\n",
        ")\n",
        "\n",
        "# Test the rag_chain_new_embeddings\n",
        "question = \"What are the restrictions for a 16 or 17 year old with a learner's permit?\"\n",
        "answer_new_embeddings = rag_chain_new_embeddings.invoke(question)\n",
        "print(\"\\nAnswer from RAG chain with new embeddings:\")\n",
        "print(answer_new_embeddings)"
      ],
      "execution_count": null,
      "outputs": [
        {
          "output_type": "stream",
          "name": "stdout",
          "text": [
            "\n",
            "Answer from RAG chain with new embeddings:\n",
            "The restrictions for a 16 or 17 year old with a learner's permit include passenger restrictions.\n"
          ]
        }
      ]
    }
  ]
}